{
 "cells": [
  {
   "cell_type": "markdown",
   "id": "367168f3",
   "metadata": {},
   "source": [
    "# Binary Tree ZigZag Traversal:\n"
   ]
  },
  {
   "cell_type": "code",
   "execution_count": 5,
   "id": "9acf70fc",
   "metadata": {},
   "outputs": [],
   "source": [
    "#Binary Tree Node:\n",
    "class Node:\n",
    "    #Inititializing new node:\n",
    "    def __init__(self,data):\n",
    "        self.data = data\n",
    "        self.left = None\n",
    "        self.right = None\n",
    "\n",
    "#Traversing throught the longest zigzag of the tree:\n",
    "def zigZag(root):\n",
    "    #If the tree is empty:\n",
    "    if root is None:\n",
    "        return\n",
    "    #Creating two stacks to store the level being searched and the next level to be searched:\n",
    "    l1 = []\n",
    "    l2 = []\n",
    "    \n",
    "    \"\"\"\"There is two ways to traverse the nodes, left to right and right to left: If lr(left to right) is true traverse \n",
    "        from left to right and push those nodes otherwise push from right to left\"\"\"\n",
    "    \n",
    "    lr = True\n",
    "    #Append the root to the current level being searched\n",
    "    l1.append(root)\n",
    "    \n",
    "    #While current level is not empty pop of the current level stack\n",
    "    while len(l1) > 0:\n",
    "        temp = l1.pop(-1) #popping the last element outve the stack\n",
    "        #print out the data being popped out\n",
    "        print(temp.data,\" \",end = \"\")\n",
    "        \n",
    "        #check if left to right is true:\n",
    "        if lr:\n",
    "            #pushing left then right to the next level stack\n",
    "            if temp.left:\n",
    "                l2.append(temp.left)\n",
    "            if temp.right:\n",
    "                l1.append(temp.right)\n",
    "        else: #Pushing right before left to the next level stack\n",
    "            if temp.right:\n",
    "                l2.append(temp.right)\n",
    "            if temp.left:\n",
    "                l2.append(temp.left)\n",
    "        \"\"\"\"If current level is empty then reverse the order (traversing in zigzag). Then swap the current level \n",
    "            being searched with the next level to be searched\"\"\"\n",
    "        if len(l1) == 0:\n",
    "            lr = not lr\n",
    "            l1,l2 = l2,l1\n",
    "            \n",
    "        \n",
    "                \n",
    " "
   ]
  },
  {
   "cell_type": "code",
   "execution_count": 6,
   "id": "becc30b0",
   "metadata": {},
   "outputs": [
    {
     "name": "stdout",
     "output_type": "stream",
     "text": [
      "Zigzag Order traversal of binary tree is\n",
      "1  3  4  5  2  7  6  "
     ]
    }
   ],
   "source": [
    "# Driver program to check above function\n",
    "root = Node(1)\n",
    "root.left = Node(2)\n",
    "root.right = Node(3)\n",
    "root.left.left = Node(7)\n",
    "root.left.right = Node(6)\n",
    "root.right.left = Node(5)\n",
    "root.right.right = Node(4)\n",
    "print(\"Zigzag Order traversal of binary tree is\")\n",
    "zigZag(root)"
   ]
  },
  {
   "cell_type": "code",
   "execution_count": null,
   "id": "3eed6680",
   "metadata": {},
   "outputs": [],
   "source": []
  }
 ],
 "metadata": {
  "kernelspec": {
   "display_name": "Python 3 (ipykernel)",
   "language": "python",
   "name": "python3"
  },
  "language_info": {
   "codemirror_mode": {
    "name": "ipython",
    "version": 3
   },
   "file_extension": ".py",
   "mimetype": "text/x-python",
   "name": "python",
   "nbconvert_exporter": "python",
   "pygments_lexer": "ipython3",
   "version": "3.9.12"
  }
 },
 "nbformat": 4,
 "nbformat_minor": 5
}
