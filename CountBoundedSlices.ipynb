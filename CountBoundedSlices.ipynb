{
 "cells": [
  {
   "cell_type": "markdown",
   "id": "f50d1689",
   "metadata": {},
   "source": [
    "# CountBoundedSlices:\n"
   ]
  },
  {
   "cell_type": "code",
   "execution_count": 37,
   "id": "8992b8c8",
   "metadata": {},
   "outputs": [],
   "source": [
    "def CountBoundedSlices(k,arr):\n",
    "    #Initialize the count to 0\n",
    "    boundedSliceCount = 0\n",
    "    #parsing through the array\n",
    "    for i in range(len(arr)):\n",
    "        \n",
    "        #Initializing the maximum and minimum values for the slices\n",
    "        maxInSlice = arr[i]\n",
    "        minInSlice = arr[i]\n",
    "        \n",
    "        #Parse through the array for the upper bound of the slice\n",
    "        for j in range(i,len(arr)):\n",
    "            print(arr[j])\n",
    "            #Updating the maximum and minimum elements in each slice\n",
    "            maxInSlice = max(maxInSlice,arr[j])\n",
    "            minInSlice = min(minInSlice,arr[j])\n",
    "            #Check difference between maximum and minimum value in the slice, if less than k then increase bounded slice count\n",
    "            if maxInSlice-minInSlice<=k:\n",
    "                print(\"BoundedSlice: Yes\")\n",
    "                boundedSliceCount += 1\n",
    "                if boundedSliceCount>1000000000:\n",
    "                    return 1000000000\n",
    "            else:\n",
    "                print(\"BoundedSlice: No\")\n",
    "                break\n",
    "    return boundedSliceCount\n",
    "    "
   ]
  },
  {
   "cell_type": "code",
   "execution_count": 38,
   "id": "bf13523b",
   "metadata": {},
   "outputs": [
    {
     "name": "stdout",
     "output_type": "stream",
     "text": [
      "3\n",
      "BoundedSlice: Yes\n",
      "5\n",
      "BoundedSlice: Yes\n",
      "7\n",
      "BoundedSlice: No\n",
      "5\n",
      "BoundedSlice: Yes\n",
      "7\n",
      "BoundedSlice: Yes\n",
      "6\n",
      "BoundedSlice: Yes\n",
      "3\n",
      "BoundedSlice: No\n",
      "7\n",
      "BoundedSlice: Yes\n",
      "6\n",
      "BoundedSlice: Yes\n",
      "3\n",
      "BoundedSlice: No\n",
      "6\n",
      "BoundedSlice: Yes\n",
      "3\n",
      "BoundedSlice: No\n",
      "3\n",
      "BoundedSlice: Yes\n"
     ]
    },
    {
     "data": {
      "text/plain": [
       "9"
      ]
     },
     "execution_count": 38,
     "metadata": {},
     "output_type": "execute_result"
    }
   ],
   "source": [
    "k = 2\n",
    "arr = [3,5,7,6,3]\n",
    "CountBoundedSlices(k,arr)"
   ]
  },
  {
   "cell_type": "code",
   "execution_count": null,
   "id": "50fe2244",
   "metadata": {},
   "outputs": [],
   "source": []
  }
 ],
 "metadata": {
  "kernelspec": {
   "display_name": "Python 3 (ipykernel)",
   "language": "python",
   "name": "python3"
  },
  "language_info": {
   "codemirror_mode": {
    "name": "ipython",
    "version": 3
   },
   "file_extension": ".py",
   "mimetype": "text/x-python",
   "name": "python",
   "nbconvert_exporter": "python",
   "pygments_lexer": "ipython3",
   "version": "3.9.12"
  }
 },
 "nbformat": 4,
 "nbformat_minor": 5
}
