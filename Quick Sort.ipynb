{
 "cells": [
  {
   "cell_type": "markdown",
   "id": "bef624a6",
   "metadata": {},
   "source": [
    "# Quick Sort"
   ]
  },
  {
   "cell_type": "markdown",
   "id": "b8a947d2",
   "metadata": {},
   "source": [
    "Quick sort is a divide and conquer algorithm like merge sort. It works on the principle of picking an element of the array to be sorted as a pivot and creating partitions around that pivot. The pivot element can be picked in multiple ways:\n",
    "\n",
    "- Picking the first element as the pivot\n",
    "- Picking the last element as the pivot\n",
    "- Random element as the pivot\n",
    "- Median as the pivot\n",
    "\n",
    "The key step in the quick sort algorithm is creating the partition. The objective of partitioning around the pivot is to place the pivot element in its correct position in the array, then placing all smaller elements of the array before it and larger elements after it.\n",
    "\n"
   ]
  },
  {
   "cell_type": "markdown",
   "id": "49811fd9",
   "metadata": {},
   "source": [
    "<img src=\"https://www.geeksforgeeks.org/wp-content/uploads/gq/2014/01/QuickSort2.png\" alt=\"Alternative text\" />"
   ]
  },
  {
   "cell_type": "code",
   "execution_count": 1,
   "id": "bbb8a1a2",
   "metadata": {},
   "outputs": [],
   "source": [
    "#Implementation by picking the last element as the pivot:\n",
    "#Defining function to do the partitioning around the pivot\n",
    "def partition(arr,low,high):\n",
    "    #choose the last element as the pivot;\n",
    "    pi = arr[high]\n",
    "    #Initialzing the pointer which swaps the greater element:\n",
    "    i = low-1 #Sets i to -1 initially\n",
    "    #Traversing and comparing elements with the pivot\n",
    "    for j in range(low,high):#Traverses from index 0 to to high-1\n",
    "        if arr[j]<=pi:\n",
    "            #Increment the pointer to the next element\n",
    "            i+=1\n",
    "            #Swap the greater element with the smaller element\n",
    "            arr[i],arr[j] = arr[j],arr[i]\n",
    "    #Swap the element pointed at by i+1 with the pivot which is the last element in the array:\n",
    "    arr[i+1],arr[high] = arr[high],arr[i+1]\n",
    "    #Return the position of the element from where the partitioning is done:\n",
    "    return i+1\n",
    "\n",
    "#Function for quickSort: Recursively called on the partitions made around the pivot:\n",
    "def quickSort(arr,low,high):\n",
    "    if low<high:\n",
    "        # Finding the pivot element by creating partition around the last element of the array:\n",
    "        pi = partition(arr,low,high)\n",
    "        \n",
    "        #Recursively calling the function on the elements smaller than the pivot\n",
    "        quickSort(arr,low,pi-1)\n",
    "        \n",
    "        #Recursively calling the function on the elements greater than the pivot\n",
    "        quickSort(arr,pi+1,high)\n",
    "        \n",
    "        print(\"Current array: \" + str(arr))\n",
    "    \n",
    "    "
   ]
  },
  {
   "cell_type": "code",
   "execution_count": null,
   "id": "ad99d6e1",
   "metadata": {},
   "outputs": [],
   "source": []
  },
  {
   "cell_type": "code",
   "execution_count": null,
   "id": "8123146f",
   "metadata": {},
   "outputs": [],
   "source": []
  }
 ],
 "metadata": {
  "kernelspec": {
   "display_name": "Python 3 (ipykernel)",
   "language": "python",
   "name": "python3"
  },
  "language_info": {
   "codemirror_mode": {
    "name": "ipython",
    "version": 3
   },
   "file_extension": ".py",
   "mimetype": "text/x-python",
   "name": "python",
   "nbconvert_exporter": "python",
   "pygments_lexer": "ipython3",
   "version": "3.9.12"
  }
 },
 "nbformat": 4,
 "nbformat_minor": 5
}
